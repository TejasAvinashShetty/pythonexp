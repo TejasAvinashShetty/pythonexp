{
 "cells": [
  {
   "cell_type": "code",
   "execution_count": 10,
   "metadata": {},
   "outputs": [],
   "source": [
    "%matplotlib inline\n",
    "import numpy as np\n",
    "import matplotlib.pyplot as plt\n",
    "import datetime"
   ]
  },
  {
   "cell_type": "code",
   "execution_count": 16,
   "metadata": {},
   "outputs": [],
   "source": [
    "from qutip import Qobj, identity, sigmax, sigmay, sigmaz, tensor,num\n",
    "from qutip.operators import num,position,momentum\n",
    "from qutip.qip.gates import swap\n",
    "from qutip.qip.algorithms import qft\n",
    "import qutip.logging_utils as logging\n",
    "logger = logging.get_logger()\n",
    "#Set this to None or logging.WARN for 'quiet' execution\n",
    "log_level = logging.INFO\n",
    "#QuTiP control modules\n",
    "import qutip.control.pulseoptim as cpo\n",
    "import qutip.control.pulsegen as pulsegen\n",
    "\n",
    "example_name = 'SWAP'"
   ]
  },
  {
   "cell_type": "code",
   "execution_count": 17,
   "metadata": {},
   "outputs": [],
   "source": [
    "Nho = 10\n",
    "omega1 =0.01\n",
    "omega2 =0.01\n",
    "omega =2*omega1\n",
    "Nt=10\n",
    "tunit = 0.01\n",
    "tmax = tunit*Nt"
   ]
  },
  {
   "cell_type": "code",
   "execution_count": 18,
   "metadata": {},
   "outputs": [],
   "source": [
    "### Defining the physics\n"
   ]
  },
  {
   "cell_type": "code",
   "execution_count": 29,
   "metadata": {},
   "outputs": [],
   "source": [
    "Q = identity(2)\n",
    "F = identity(Nho)\n",
    "\n",
    "\n",
    "# Drift Hamiltonian\n",
    "H_d = omega1*tensor(sigmaz(),Q,F) +\\\n",
    "     omega2*tensor(Q,sigmaz(),F) +\\\n",
    "     omega*tensor(Q,Q,num(Nho))\n",
    "# Control Hamiltonian     \n",
    "H_c= [tensor(sigmax(),Q,position(Nho)) +\\\n",
    "     tensor(Q,sigmax(),position(Nho))]\n",
    "n_ctrls = len(H_c) #1    \n",
    "    \n",
    "# start point for the gate evolution\n",
    "U_0 = tensor(identity(2),identity(2),identity(Nho))\n",
    "\n",
    "\n",
    "# Target for gate the evolution \n",
    "U_targ = tensor(swap(),identity(Nho))     \n"
   ]
  },
  {
   "cell_type": "markdown",
   "metadata": {},
   "source": [
    "Defining the time evolution parameters"
   ]
  },
  {
   "cell_type": "code",
   "execution_count": 30,
   "metadata": {},
   "outputs": [],
   "source": [
    "# Number of time slots\n",
    "n_ts = 200\n",
    "# Time allowed for the evolution\n",
    "evo_time = 10"
   ]
  },
  {
   "cell_type": "markdown",
   "metadata": {},
   "source": [
    "Set the conditions which will cause the pulse optimisation to terminate"
   ]
  },
  {
   "cell_type": "code",
   "execution_count": 31,
   "metadata": {},
   "outputs": [],
   "source": [
    "# Fidelity error target\n",
    "fid_err_targ = 1e-3\n",
    "# Maximum iterations for the optisation algorithm\n",
    "max_iter = 20000\n",
    "# Maximum (elapsed) time allowed in seconds\n",
    "max_wall_time = 300"
   ]
  },
  {
   "cell_type": "markdown",
   "metadata": {},
   "source": [
    "Give an extension for output files\n"
   ]
  },
  {
   "cell_type": "code",
   "execution_count": 32,
   "metadata": {},
   "outputs": [],
   "source": [
    "#Set to None to suppress output files\n",
    "f_ext = \"{}_n_ts{}.txt\".format(example_name, n_ts)"
   ]
  },
  {
   "cell_type": "markdown",
   "metadata": {},
   "source": [
    "Create the optimiser objects"
   ]
  },
  {
   "cell_type": "code",
   "execution_count": 36,
   "metadata": {},
   "outputs": [],
   "source": [
    "optim = cpo.create_pulse_optimizer(H_d, H_c, U_0, U_targ, n_ts, evo_time, \n",
    "                fid_err_targ=fid_err_targ, \n",
    "                max_iter=max_iter, max_wall_time=max_wall_time,\n",
    "                alg='CRAB', \n",
    "                dyn_type='UNIT', \n",
    "                prop_type='DIAG', \n",
    "                fid_type='UNIT', fid_params={'phase_option':'PSU'}, \n",
    "                log_level=log_level, gen_stats=True)\n",
    "                "
   ]
  },
  {
   "cell_type": "markdown",
   "metadata": {},
   "source": [
    "Configure the pulses for each of the controls"
   ]
  },
  {
   "cell_type": "code",
   "execution_count": null,
   "metadata": {},
   "outputs": [],
   "source": [
    "dyn = optim.dynamics\n",
    "\n",
    "# Control \n",
    "crab_pgen = optim.pulse_generator[0]\n",
    "# Start from a sine wave\n",
    "guess_pgen = pulsegen.create_pulse_gen('SIN', dyn=dyn, \n",
    "                                           pulse_params={'scaling':1.0})\n",
    "crab_pgen.guess_pulse = guess_pgen.gen_pulse()\n",
    "crab_pgen.scaling = 0.0\n",
    "# Add some higher frequency components\n",
    "crab_pgen.num_coeffs = 5\n",
    "\n",
    "# Control 1\n",
    "crab_pgen = optim.pulse_generator[0]\n",
    "# Start from a ramped pulse\n",
    "guess_pgen = pulsegen.create_pulse_gen('LIN', dyn=dyn, \n",
    "                                           pulse_params={'scaling':3.0})\n",
    "crab_pgen.guess_pulse = guess_pgen.gen_pulse()\n",
    "crab_pgen.scaling = 0.0\n",
    "# Add some higher frequency components\n",
    "crab_pgen.num_coeffs = 5\n",
    "\n",
    "# Control 2\n",
    "crab_pgen = optim.pulse_generator[1]\n",
    "# Apply a ramping pulse that will force the start and end to zero\n",
    "ramp_pgen = pulsegen.create_pulse_gen('GAUSSIAN_EDGE', dyn=dyn, \n",
    "                                    pulse_params={'decay_time':evo_time/50.0})\n",
    "crab_pgen.ramping_pulse = ramp_pgen.gen_pulse()\n",
    "\n",
    "# Control 3\n",
    "crab_pgen = optim.pulse_generator[2]\n",
    "# Add bounds\n",
    "crab_pgen.scaling = 0.5\n",
    "crab_pgen.lbound = -2.0\n",
    "crab_pgen.ubound = 2.0\n",
    "\n",
    "\n",
    "# Control 4\n",
    "crab_pgen = optim.pulse_generator[3]\n",
    "# Start from a triangular pulse with small signal\n",
    "guess_pgen = pulsegen.PulseGenTriangle(dyn=dyn)\n",
    "guess_pgen.num_waves = 1\n",
    "guess_pgen.scaling = 2.0\n",
    "guess_pgen.offset = 2.0\n",
    "crab_pgen.guess_pulse = guess_pgen.gen_pulse()\n",
    "crab_pgen.scaling = 0.1\n",
    "\n",
    "init_amps = np.zeros([n_ts, n_ctrls])\n",
    "for j in range(dyn.num_ctrls):\n",
    "    pgen = optim.pulse_generator[j]\n",
    "    pgen.init_pulse()\n",
    "    init_amps[:, j] = pgen.gen_pulse()\n",
    "\n",
    "dyn.initialize_controls(init_amps)"
   ]
  }
 ],
 "metadata": {
  "kernelspec": {
   "display_name": "Python 3",
   "language": "python",
   "name": "python3"
  },
  "language_info": {
   "codemirror_mode": {
    "name": "ipython",
    "version": 3
   },
   "file_extension": ".py",
   "mimetype": "text/x-python",
   "name": "python",
   "nbconvert_exporter": "python",
   "pygments_lexer": "ipython3",
   "version": "3.6.5"
  }
 },
 "nbformat": 4,
 "nbformat_minor": 2
}
